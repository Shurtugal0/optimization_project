{
 "cells": [
  {
   "cell_type": "code",
   "execution_count": 4,
   "metadata": {},
   "outputs": [],
   "source": [
    "from cvxopt import matrix, solvers"
   ]
  },
  {
   "cell_type": "code",
   "execution_count": 38,
   "metadata": {},
   "outputs": [
    {
     "name": "stdout",
     "output_type": "stream",
     "text": [
      "     pcost       dcost       gap    pres   dres   k/t\n",
      " 0: -2.0538e+01 -4.8231e+01  1e+01  0e+00  9e-01  1e+00\n",
      " 1: -2.1458e+01 -2.4049e+01  9e-01  2e-16  8e-02  8e-02\n",
      " 2: -2.1993e+01 -2.2046e+01  2e-02  4e-16  2e-03  2e-03\n",
      " 3: -2.2000e+01 -2.2000e+01  2e-04  1e-16  2e-05  2e-05\n",
      " 4: -2.2000e+01 -2.2000e+01  2e-06  1e-16  2e-07  2e-07\n",
      " 5: -2.2000e+01 -2.2000e+01  2e-08  9e-17  2e-09  2e-09\n",
      "Optimal solution found.\n",
      "[ 3.00e+00]\n",
      "[ 2.00e+00]\n",
      "\n",
      "Max total weight: 22.00 kg\n"
     ]
    }
   ],
   "source": [
    "# Cucumbers and onions\n",
    "\n",
    "c = matrix([-4., -5.])\n",
    "b = matrix([8., 7., 3., 0., 0.])\n",
    "A = matrix([[2., 1., 0., -1., 0.],[1., 2., 1., 0., -1]])\n",
    "sol = solvers.lp(c, A, b)\n",
    "print(sol['x'])\n",
    "print('Max total weight: {:.2f} kg'.format(-sol['primal objective']))"
   ]
  },
  {
   "cell_type": "code",
   "execution_count": 40,
   "metadata": {
    "scrolled": true
   },
   "outputs": [
    {
     "name": "stdout",
     "output_type": "stream",
     "text": [
      "     pcost       dcost       gap    pres   dres   k/t\n",
      " 0: -1.7537e+03 -4.6124e+03  1e+03  1e-01  1e+00  1e+00\n",
      " 1: -1.9002e+03 -3.3677e+03  6e+02  6e-02  7e-01  1e+01\n",
      " 2: -2.0503e+03 -3.6352e+03  9e+02  7e-02  8e-01  4e+01\n",
      " 3: -2.1014e+03 -2.1512e+03  2e+01  2e-03  3e-02  3e+00\n",
      " 4: -2.1000e+03 -2.1005e+03  2e-01  2e-05  3e-04  3e-02\n",
      " 5: -2.1000e+03 -2.1000e+03  2e-03  2e-07  3e-06  3e-04\n",
      " 6: -2.1000e+03 -2.1000e+03  2e-05  2e-09  3e-08  3e-06\n",
      "Optimal solution found.\n",
      "\n",
      "Heidelberg sweet: -0.00 gallons\n",
      "Heidelberg regular: 50.00 gallons\n",
      "Deutschl. extra dry: 75.00 gallons\n"
     ]
    }
   ],
   "source": [
    "# German wines\n",
    "\n",
    "c = matrix([-10.0, -12, -20])\n",
    "G = matrix([[1.0, 1, 2, 2, -1, 0, 0], \n",
    "            [2.0, 0, 1, 3, 0, -1, 0], \n",
    "            [0, 2, 0, 1, 0, 0, -1]])\n",
    "h = matrix([150.0, 150, 80, 225, 0, 0, 0])\n",
    "sol=solvers.lp(c=c, G=G, h=h)\n",
    "result = sol['x']\n",
    "print('''\\nHeidelberg sweet: {0:.2f} gallons\n",
    "Heidelberg regular: {1:.2f} gallons\n",
    "Deutschl. extra dry: {2:.2f} gallons'''.format(result[0], result[1], result[2]))"
   ]
  },
  {
   "cell_type": "code",
   "execution_count": 56,
   "metadata": {},
   "outputs": [
    {
     "name": "stdout",
     "output_type": "stream",
     "text": [
      "     pcost       dcost       gap    pres   dres   k/t\n",
      " 0: -3.2476e+03 -5.2784e+03  7e+02  0e+00  4e-01  1e+00\n",
      " 1: -3.5884e+03 -3.8092e+03  6e+01  2e-16  5e-02  4e+00\n",
      " 2: -3.5999e+03 -3.6022e+03  6e-01  3e-16  5e-04  4e-02\n",
      " 3: -3.6000e+03 -3.6000e+03  6e-03  2e-16  5e-06  4e-04\n",
      " 4: -3.6000e+03 -3.6000e+03  6e-05  2e-16  5e-08  4e-06\n",
      "Optimal solution found.\n",
      "[ 2.00e+00]\n",
      "[ 6.00e+00]\n",
      "\n",
      "Amount of fst perfume: 2.00 litres\n",
      "Amount of snd perfume: 6.00 litres\n"
     ]
    }
   ],
   "source": [
    "# Perfumes\n",
    "\n",
    "c = matrix([-300., -500.])\n",
    "b = matrix([4., 12., 18., 0., 0.])\n",
    "A = matrix([[1., 0., 3., -1., 0.],[0., 2., 2., 0., -1]])\n",
    "sol = solvers.lp(c, A, b)\n",
    "print(sol['x'])\n",
    "ans = sol['x']\n",
    "print('''Amount of fst perfume: {0:.2f} litres\n",
    "Amount of snd perfume: {1:.2f} litres'''.format(ans[0], ans[1]))"
   ]
  },
  {
   "cell_type": "code",
   "execution_count": 59,
   "metadata": {},
   "outputs": [
    {
     "name": "stdout",
     "output_type": "stream",
     "text": [
      "     pcost       dcost       gap    pres   dres   k/t\n",
      " 0: -1.6168e+04 -5.9742e+04  7e+03  4e-02  3e+00  1e+00\n",
      " 1: -1.5963e+04 -2.0647e+04  5e+02  5e-03  3e-01  4e+01\n",
      " 2: -1.5992e+04 -1.7800e+04  2e+02  2e-03  1e-01  2e+01\n",
      " 3: -1.6170e+04 -1.7384e+04  2e+02  1e-03  8e-02  2e+01\n",
      " 4: -1.6182e+04 -1.6286e+04  2e+01  1e-04  7e-03  2e+00\n",
      " 5: -1.6187e+04 -1.6189e+04  2e-01  1e-06  7e-05  2e-02\n",
      " 6: -1.6187e+04 -1.6188e+04  2e-03  1e-08  7e-07  2e-04\n",
      " 7: -1.6187e+04 -1.6188e+04  2e-05  1e-10  7e-09  2e-06\n",
      "Optimal solution found.\n",
      "[ 2.50e+02]\n",
      "[ 3.86e-06]\n",
      "[ 8.75e+02]\n",
      "\n",
      "Mass of Abondance: 250.00 kg\n",
      "Mass of Beaufort: 0.00 kg\n",
      "Mass of Reblochon: 875.00 kg\n"
     ]
    }
   ],
   "source": [
    "# Dairy products\n",
    "\n",
    "c = matrix([-17.5, -22.5, -13.5])\n",
    "b = matrix([3000, 1000., 4000., 15000, 0., 0, 0])\n",
    "A = matrix([[5., 5, 2], \n",
    "            [3, 0, 0], \n",
    "            [2, 5, 4], \n",
    "            [15, 30, 10], \n",
    "            [-1, 0, 0], \n",
    "            [0, -1, 0], \n",
    "            [0, 0, -1]]).T\n",
    "sol = solvers.lp(c, A, b)\n",
    "print(sol['x'])\n",
    "ans = sol['x']\n",
    "print('''Mass of Abondance: {0:.2f} kg\n",
    "Mass of Beaufort: {1:.2f} kg\n",
    "Mass of Reblochon: {2:.2f} kg'''.format(ans[0], ans[1], ans[2]))"
   ]
  },
  {
   "cell_type": "code",
   "execution_count": 41,
   "metadata": {},
   "outputs": [
    {
     "name": "stdout",
     "output_type": "stream",
     "text": [
      "     pcost       dcost       gap    pres   dres   k/t\n",
      " 0: -1.3940e+04 -5.0132e+04  1e+05  8e-01  9e-01  1e+00\n",
      " 1: -4.1063e+03 -1.0209e+04  2e+04  2e-01  2e-01  1e+03\n",
      " 2: -5.3423e+03 -7.3155e+03  1e+04  6e-02  7e-02  8e+02\n",
      " 3: -8.1701e+03 -8.6616e+03  4e+03  2e-02  2e-02  3e+02\n",
      " 4: -8.9920e+03 -9.0084e+03  1e+02  6e-04  7e-04  1e+01\n",
      " 5: -8.9999e+03 -9.0001e+03  1e+00  6e-06  7e-06  1e-01\n",
      " 6: -9.0000e+03 -9.0000e+03  1e-02  6e-08  7e-08  1e-03\n",
      " 7: -9.0000e+03 -9.0000e+03  1e-04  6e-10  7e-10  1e-05\n",
      "Optimal solution found.\n",
      "[ 5.00e+03]\n",
      "[ 2.33e-07]\n",
      "[ 2.00e+03]\n",
      "[-1.40e-07]\n",
      "[ 2.00e+03]\n",
      "[-1.09e-07]\n",
      "[ 4.37e-08]\n",
      "[ 1.00e+04]\n",
      "[ 8.00e+03]\n",
      "\n",
      "Max profit: 9000.00 €\n"
     ]
    }
   ],
   "source": [
    "# Apples\n",
    "\n",
    "c = matrix([-4., 0, 0, 0, -8, 0., -10, 1.5, 1.5])\n",
    "h = matrix([5000., 2000, 500, 0, 0, 0, 0, 0, 0, 0, 0, 0])\n",
    "G = matrix([[1., 0, 0, 0, 0, 0, 0, 0, 0],\n",
    "            [0., 0, 0, 0, 1, 0, 0, 0, 0],\n",
    "            [0., 0, 0, 0, 0, 0, 1, 0, 0],\n",
    "            [-1., 0, 0, 0, 0, 0, 0, 0, 0],\n",
    "            [0., -1, 0, 0, 0, 0, 0, 0, 0],\n",
    "            [0., 0, -1, 0, 0, 0, 0, 0, 0],\n",
    "            [0., 0, 0, -1, 0, 0, 0, 0, 0],\n",
    "            [0., 0, 0, 0, -1, 0, 0, 0, 0],\n",
    "            [0., 0, 0, 0, 0, -1, 0, 0, 0],\n",
    "            [0., 0, 0, 0, 0, 0, -1, 0, 0],\n",
    "            [0., 0, 0, 0, 0, 0, 0, -1, 0],\n",
    "            [0., 0, 0, 0, 0, 0, 0, 0, -1]]).T\n",
    "\n",
    "b = matrix([0., 0, 0, 0, 0.])\n",
    "\n",
    "A = matrix([[0, 0.6, 0, 1, 0, 0., 0, 0, 0],\n",
    "           [0, 0, 0, 0, 0, 0.4, 1, 0, 0],\n",
    "           [0, 0, 1, 1, -1, -1, 0, 0, 0],\n",
    "           [1, 1, 0, 0, 0, 0, 0, -0.5, 0],\n",
    "           [0, 0, 1, 0, 0, 0, 0, 0, -0.25]]).T\n",
    "\n",
    "sol = solvers.lp(c=c, A=A, b=b, G=G, h=h)\n",
    "print(sol['x'])\n",
    "print('Max profit: {:.2f} €'.format(-sol['primal objective']))"
   ]
  },
  {
   "cell_type": "code",
   "execution_count": 43,
   "metadata": {},
   "outputs": [
    {
     "name": "stdout",
     "output_type": "stream",
     "text": [
      "     pcost       dcost       gap    pres   dres   k/t\n",
      " 0: -6.8765e+03 -1.7078e+04  7e+03  3e-01  4e-01  1e+00\n",
      " 1: -6.6316e+03 -7.9338e+03  5e+02  4e-02  5e-02  1e+01\n",
      " 2: -6.5497e+03 -6.9649e+03  1e+02  1e-02  2e-02  5e+00\n",
      " 3: -6.5616e+03 -7.4438e+03  9e+02  2e-02  3e-02  2e+01\n",
      " 4: -6.4230e+03 -6.8840e+03  3e+02  1e-02  2e-02  1e+01\n",
      " 5: -6.3306e+03 -6.4420e+03  1e+02  3e-03  4e-03  5e+00\n",
      " 6: -6.3005e+03 -6.3020e+03  1e+00  4e-05  5e-05  6e-02\n",
      " 7: -6.3000e+03 -6.3000e+03  1e-02  4e-07  5e-07  6e-04\n",
      " 8: -6.3000e+03 -6.3000e+03  1e-04  4e-09  5e-09  6e-06\n",
      "Optimal solution found.\n",
      "[ 1.00e+02]\n",
      "[ 3.00e+01]\n",
      "[ 1.00e+02]\n",
      "[ 1.00e+02]\n",
      "[ 3.00e+01]\n",
      "[ 1.00e+02]\n",
      "[ 3.00e+01]\n",
      "\n",
      "Amount of product P: 100\n",
      "Amount of product Q: 30\n"
     ]
    }
   ],
   "source": [
    "# Bill Of Materials\n",
    "\n",
    "c = matrix([-90., -100, 5, 20, 20, 20, 20])\n",
    "h = matrix([100., 50, 2400, 2400, 2400, 2400, 0, 0, 0, 0, 0, 0, 0])\n",
    "G = matrix([[1., 0, 0, 0, 0, 0, 0],\n",
    "            [0., 1, 0, 0, 0, 0, 0],\n",
    "            [0., 0, 15, 0, 0, 0, 0],\n",
    "            [0, 15, 0, 15, 15, 0, 0],\n",
    "            [15, 0, 0, 0, 0, 5, 5],\n",
    "            [15, 15, 0, 0, 0, 0, 0],\n",
    "            [-1, 0, 0, 0, 0, 0, 0],\n",
    "            [0., -1, 0, 0, 0, 0, 0],\n",
    "            [0., 0, -1, 0, 0, 0, 0],\n",
    "            [0., 0, 0, -1, 0, 0, 0],\n",
    "            [0., 0, 0, 0, -1, 0, 0],\n",
    "            [0., 0, 0, 0, 0, -1, 0], \n",
    "            [0., 0, 0, 0, 0, 0, -1]]).T\n",
    "\n",
    "b = matrix([0., 0, 0, 0, 0.])\n",
    "\n",
    "A = matrix([[1, 0, -1., 0, 0, 0., 0],\n",
    "           [1, 0, 0, -1, 0, 0., 0],\n",
    "           [1, 0, 0, 0, 0, -1, 0],\n",
    "           [0, 1, 0, 0, -1, 0., 0],\n",
    "           [0, 1, 0, 0, 0, 0., -1]]).T\n",
    "\n",
    "sol = solvers.lp(c=c, A=A, b=b, G=G, h=h)\n",
    "print(sol['x'])\n",
    "ans = sol['x']\n",
    "print('''Amount of product P: {0:.0f}\n",
    "Amount of product Q: {1:.0f}'''.format(ans[0], ans[1]))"
   ]
  },
  {
   "cell_type": "code",
   "execution_count": 53,
   "metadata": {},
   "outputs": [
    {
     "name": "stdout",
     "output_type": "stream",
     "text": [
      "     pcost       dcost       gap    pres   dres   k/t\n",
      " 0: -3.2568e+04 -2.4404e+04  5e+04  6e-16  2e+00  1e+00\n",
      " 1: -4.2701e+04 -3.7872e+04  3e+04  5e-16  9e-01  3e+02\n",
      " 2: -4.0636e+04 -3.8117e+04  1e+04  8e-16  3e-01  9e+02\n",
      " 3: -4.6938e+04 -4.6168e+04  4e+03  1e-15  9e-02  3e+02\n",
      " 4: -4.7719e+04 -4.7571e+04  7e+02  2e-15  2e-02  6e+01\n",
      " 5: -4.7997e+04 -4.7994e+04  1e+01  9e-16  3e-04  1e+00\n",
      " 6: -4.8000e+04 -4.8000e+04  1e-01  1e-15  3e-06  1e-02\n",
      " 7: -4.8000e+04 -4.8000e+04  1e-03  1e-15  3e-08  1e-04\n",
      "Optimal solution found.\n",
      "[ 1.00e+03]\n",
      "[ 8.00e+03]\n",
      "[ 3.00e+02]\n",
      "[ 4.00e+03]\n",
      "[ 7.00e+02]\n",
      "[ 2.00e+02]\n",
      "[ 8.00e+02]\n",
      "[ 2.27e-06]\n",
      "[ 5.00e+02]\n",
      "[ 3.20e+03]\n",
      "[ 3.00e+02]\n",
      "\n",
      "Wine of fst type: 1000.00 litres\n",
      "Wine of snd type: 8000.00 litres\n"
     ]
    }
   ],
   "source": [
    "# Production of wines with external data\n",
    "\n",
    "c = matrix([-7., -5, 0, 0, -1, 0, 0, -1, 0, 0, -1])\n",
    "h = matrix([-1000., -1000, 0, 0, 0, 0, 0, 0, 0, 0, 0])\n",
    "G = matrix([[-1., 0, 0, 0, 0, 0, 0, 0, 0, 0, 0],\n",
    "            [0., -1, 0, 0, 0, 0, 0, 0, 0, 0, 0],\n",
    "            [0., 0, -1, 0, 0, 0, 0, 0, 0, 0, 0],\n",
    "            [0., 0, 0, -1, 0, 0, 0, 0, 0, 0, 0],\n",
    "            [0., 0, 0, 0, -1, 0, 0, 0, 0, 0, 0],\n",
    "            [0., 0, 0, 0, 0, -1, 0, 0, 0, 0, 0],\n",
    "            [0., 0, 0, 0, 0, 0, -1, 0, 0, 0, 0],\n",
    "            [0., 0, 0, 0, 0, 0, 0, -1, 0, 0, 0],\n",
    "            [0., 0, 0, 0, 0, 0, 0, 0, -1, 0, 0],\n",
    "            [0., 0, 0, 0, 0, 0, 0, 0, 0, -1, 0],\n",
    "            [0., 0, 0, 0, 0, 0, 0, 0, 0, 0, -1]]).T\n",
    "\n",
    "b = matrix([5000, 1000., 4000, 0, 0., 0, 0, 0, 0])\n",
    "\n",
    "A = matrix([[0., 0, 1, 1, 1., 0, 0, 0, 0, 0, 0], \n",
    "            [0., 0, 0, 0, 0., 1, 1, 1, 0, 0, 0],\n",
    "            [0., 0, 0, 0, 0., 0, 0, 0, 1, 1, 1],\n",
    "            [0.3, 0, -1, 0, 0., 0, 0, 0, 0, 0, 0],\n",
    "            [0.2, 0, 0, 0, 0., -1, 0, 0, 0, 0, 0],\n",
    "            [0.5, 0, 0, 0, 0., 0, 0, 0, -1, 0, 0],\n",
    "            [0., 0.5, 0, -1, 0., 0, 0, 0, 0, 0, 0],\n",
    "            [0., 0.1, 0, 0, 0., 0, -1, 0, 0, 0, 0],\n",
    "            [0., 0.4, 0, 0, 0., 0, 0, 0, 0, -1, 0]]).T\n",
    "\n",
    "sol = solvers.lp(c=c, A=A, b=b, G=G, h=h)\n",
    "print(sol['x'])\n",
    "ans = sol['x']\n",
    "print('''Wine of fst type: {0:.2f} litres\n",
    "Wine of snd type: {1:.2f} litres'''.format(ans[0], ans[1]))"
   ]
  },
  {
   "cell_type": "code",
   "execution_count": null,
   "metadata": {},
   "outputs": [],
   "source": []
  }
 ],
 "metadata": {
  "kernelspec": {
   "display_name": "Python 3",
   "language": "python",
   "name": "python3"
  },
  "language_info": {
   "codemirror_mode": {
    "name": "ipython",
    "version": 3
   },
   "file_extension": ".py",
   "mimetype": "text/x-python",
   "name": "python",
   "nbconvert_exporter": "python",
   "pygments_lexer": "ipython3",
   "version": "3.6.7"
  }
 },
 "nbformat": 4,
 "nbformat_minor": 2
}
