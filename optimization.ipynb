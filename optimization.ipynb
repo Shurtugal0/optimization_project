{
 "cells": [
  {
   "cell_type": "code",
   "execution_count": 3,
   "metadata": {},
   "outputs": [],
   "source": [
    "import numpy as np\n",
    "import matplotlib.pyplot as plt\n",
    "import scipy.stats as sps\n",
    "import tqdm\n",
    "%matplotlib inline"
   ]
  },
  {
   "cell_type": "code",
   "execution_count": 52,
   "metadata": {},
   "outputs": [
    {
     "name": "stdout",
     "output_type": "stream",
     "text": [
      "[[0.12262093 0.08957625 0.29903679 0.22751046 0.26125558]\n",
      " [0.20821353 0.28187651 0.28598962 0.07636855 0.14755178]\n",
      " [0.43080048 0.07232964 0.06015189 0.28996765 0.14675034]\n",
      " [0.09371345 0.2694553  0.246365   0.06036239 0.33010386]\n",
      " [0.06982142 0.17156186 0.12172916 0.59989012 0.03699744]]\n"
     ]
    }
   ],
   "source": [
    "t_matrix = np.random.rand(5,5) \n",
    "t_matrix /= t_matrix.sum(axis=1)[:,None]\n",
    "\n",
    "print(t_matrix)\n",
    "\n",
    "c_matrix = -(t_matrix * np.log2(t_matrix)).sum(axis=-1)\n",
    "\n",
    "df = lambda x: -c_matrix.T - (t_matrix * (np.log2(t_matrix) + 1)).sum(axis=-1)"
   ]
  },
  {
   "cell_type": "code",
   "execution_count": 53,
   "metadata": {},
   "outputs": [],
   "source": [
    "def grad_descent(x0, alpha, precision, max_iters):\n",
    "    cur_x = x0\n",
    "    previous_step_size = 1\n",
    "    iters = 0\n",
    "    while previous_step_size > precision and iters < max_iters:\n",
    "        prev_x = cur_x\n",
    "        cur_x = cur_x + alpha * df(prev_x)\n",
    "        previous_step_size = np.linalg.norm(cur_x - prev_x) \n",
    "        iters += 1\n",
    "    \n",
    "    print(\"The local maximum occurs at\", cur_x)\n",
    "    \n",
    "def proj_grad_descent(x0, alpha, precision, max_iters):\n",
    "    cur_x = x0\n",
    "    previous_step_size = 1\n",
    "    iters = 0\n",
    "    while previous_step_size > precision and iters < max_iters:\n",
    "        prev_x = cur_x\n",
    "        cur_x = euclidean_proj_simplex(cur_x + alpha * df(prev_x))\n",
    "        previous_step_size = np.linalg.norm(cur_x - prev_x) \n",
    "        iters += 1\n",
    "    \n",
    "    print(\"The local maximum occurs at\", cur_x)\n",
    "    \n",
    "def euclidean_proj_simplex(v, s=1):\n",
    "    n, = v.shape  # will raise ValueError if v is not 1-D\n",
    "    # check if we are already on the simplex\n",
    "    if v.sum() == s and np.alltrue(v >= 0):\n",
    "        # best projection: itself!\n",
    "        return v\n",
    "    # get the array of cumulative sums of a sorted (decreasing) copy of v\n",
    "    u = np.sort(v)[::-1]\n",
    "    cssv = np.cumsum(u)\n",
    "    # get the number of > 0 components of the optimal solution\n",
    "    rho = np.nonzero(u * np.arange(1, n+1) > (cssv - s))[0][-1]\n",
    "    # compute the Lagrange multiplier associated to the simplex constraint\n",
    "    theta = (cssv[rho] - s) / (rho + 1.0)\n",
    "    # compute the projection by thresholding v using theta\n",
    "    w = (v - theta).clip(min=0)\n",
    "    return w"
   ]
  },
  {
   "cell_type": "code",
   "execution_count": 54,
   "metadata": {},
   "outputs": [
    {
     "name": "stdout",
     "output_type": "stream",
     "text": [
      "The local maximum occurs at [-9997.42239241 -9999.86711875 -9999.36347971 -9999.88287137\n",
      " -9998.25518535]\n",
      "The local maximum occurs at [9.16396466e-01 2.77555756e-17 5.55111512e-17 8.32667268e-17\n",
      " 8.36035337e-02]\n"
     ]
    }
   ],
   "source": [
    "x0 = np.random.rand(5) * 5\n",
    "alpha = 0.1\n",
    "precision = 10**-2\n",
    "iters = 10**5\n",
    "\n",
    "grad_descent(x0, alpha, precision, iters)\n",
    "proj_grad_descent(x0, alpha, precision, iters)"
   ]
  },
  {
   "cell_type": "code",
   "execution_count": null,
   "metadata": {},
   "outputs": [],
   "source": []
  }
 ],
 "metadata": {
  "kernelspec": {
   "display_name": "Python 3",
   "language": "python",
   "name": "python3"
  },
  "language_info": {
   "codemirror_mode": {
    "name": "ipython",
    "version": 3
   },
   "file_extension": ".py",
   "mimetype": "text/x-python",
   "name": "python",
   "nbconvert_exporter": "python",
   "pygments_lexer": "ipython3",
   "version": "3.6.7"
  }
 },
 "nbformat": 4,
 "nbformat_minor": 2
}
